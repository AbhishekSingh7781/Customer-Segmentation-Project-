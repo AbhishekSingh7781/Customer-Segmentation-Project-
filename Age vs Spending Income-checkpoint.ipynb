{
 "cells": [
  {
   "cell_type": "code",
   "execution_count": 37,
   "id": "e7c2f4d1-9864-4454-8aef-d94c81761e74",
   "metadata": {},
   "outputs": [
    {
     "name": "stdout",
     "output_type": "stream",
     "text": [
      "C:\\Users\\karth\\JN\n",
      "['.ipynb_checkpoints', 'Age vs Spending Income.ipynb', 'Annual Income vs Spending Score.ipynb', 'Customer Segmentation Dataset.xlsx', 'Data Cleaning and Pivot Table(1).csv', 'EDA.ipynb', 'Placement.xlsx', 'Random Sales Data.xlsx', 'Splitted Raw Dara.xlsx', 'Splitted Raw Data.xlsx', 'Untitled.ipynb']\n"
     ]
    }
   ],
   "source": [
    "import os \n",
    "import pandas as pd\n",
    "import numpy as np\n",
    "import matplotlib.pyplot as plt\n",
    "import seaborn as sns\n",
    "from sklearn.cluster import KMeans \n",
    "from sklearn.preprocessing  import StandardScaler\n",
    "from sklearn.datasets import make_blobs\n",
    "from sklearn.metrics import silhouette_score\n",
    "print(os.getcwd())\n",
    "print(os.listdir())"
   ]
  },
  {
   "cell_type": "code",
   "execution_count": 38,
   "id": "4f3463e5-8364-4fe4-a747-6674203667d8",
   "metadata": {},
   "outputs": [],
   "source": [
    "df=pd.read_excel(\"Customer Segmentation Dataset.xlsx\")"
   ]
  },
  {
   "cell_type": "code",
   "execution_count": 39,
   "id": "2ec5c503-d519-4730-8d9b-8dc24534c446",
   "metadata": {},
   "outputs": [
    {
     "data": {
      "text/html": [
       "<div>\n",
       "<style scoped>\n",
       "    .dataframe tbody tr th:only-of-type {\n",
       "        vertical-align: middle;\n",
       "    }\n",
       "\n",
       "    .dataframe tbody tr th {\n",
       "        vertical-align: top;\n",
       "    }\n",
       "\n",
       "    .dataframe thead th {\n",
       "        text-align: right;\n",
       "    }\n",
       "</style>\n",
       "<table border=\"1\" class=\"dataframe\">\n",
       "  <thead>\n",
       "    <tr style=\"text-align: right;\">\n",
       "      <th></th>\n",
       "      <th>Customer ID</th>\n",
       "      <th>Age</th>\n",
       "      <th>Gender</th>\n",
       "      <th>Annual Income(USD)</th>\n",
       "      <th>Spending Score (1-100)</th>\n",
       "      <th>Purchase Frequency(per month)</th>\n",
       "      <th>AvgPurchaseValue (USD)</th>\n",
       "      <th>LoyaltyScore (1-10)</th>\n",
       "      <th>Preferred Category</th>\n",
       "      <th>Tenure (Years)</th>\n",
       "    </tr>\n",
       "  </thead>\n",
       "  <tbody>\n",
       "    <tr>\n",
       "      <th>0</th>\n",
       "      <td>1</td>\n",
       "      <td>56</td>\n",
       "      <td>Female</td>\n",
       "      <td>63484</td>\n",
       "      <td>49</td>\n",
       "      <td>5</td>\n",
       "      <td>89.24</td>\n",
       "      <td>7</td>\n",
       "      <td>Grocery</td>\n",
       "      <td>3</td>\n",
       "    </tr>\n",
       "    <tr>\n",
       "      <th>1</th>\n",
       "      <td>2</td>\n",
       "      <td>46</td>\n",
       "      <td>Male</td>\n",
       "      <td>56212</td>\n",
       "      <td>100</td>\n",
       "      <td>5</td>\n",
       "      <td>26.74</td>\n",
       "      <td>5</td>\n",
       "      <td>Clothing</td>\n",
       "      <td>12</td>\n",
       "    </tr>\n",
       "    <tr>\n",
       "      <th>2</th>\n",
       "      <td>3</td>\n",
       "      <td>32</td>\n",
       "      <td>Female</td>\n",
       "      <td>63525</td>\n",
       "      <td>12</td>\n",
       "      <td>10</td>\n",
       "      <td>63.76</td>\n",
       "      <td>3</td>\n",
       "      <td>Clothing</td>\n",
       "      <td>11</td>\n",
       "    </tr>\n",
       "    <tr>\n",
       "      <th>3</th>\n",
       "      <td>4</td>\n",
       "      <td>60</td>\n",
       "      <td>Male</td>\n",
       "      <td>67202</td>\n",
       "      <td>61</td>\n",
       "      <td>10</td>\n",
       "      <td>37.47</td>\n",
       "      <td>3</td>\n",
       "      <td>Grocery</td>\n",
       "      <td>6</td>\n",
       "    </tr>\n",
       "    <tr>\n",
       "      <th>4</th>\n",
       "      <td>5</td>\n",
       "      <td>25</td>\n",
       "      <td>Male</td>\n",
       "      <td>52635</td>\n",
       "      <td>19</td>\n",
       "      <td>19</td>\n",
       "      <td>28.24</td>\n",
       "      <td>4</td>\n",
       "      <td>Sports</td>\n",
       "      <td>12</td>\n",
       "    </tr>\n",
       "  </tbody>\n",
       "</table>\n",
       "</div>"
      ],
      "text/plain": [
       "   Customer ID  Age  Gender  Annual Income(USD)  Spending Score (1-100)  \\\n",
       "0            1   56  Female               63484                      49   \n",
       "1            2   46    Male               56212                     100   \n",
       "2            3   32  Female               63525                      12   \n",
       "3            4   60    Male               67202                      61   \n",
       "4            5   25    Male               52635                      19   \n",
       "\n",
       "   Purchase Frequency(per month)  AvgPurchaseValue (USD)  LoyaltyScore (1-10)  \\\n",
       "0                              5                   89.24                    7   \n",
       "1                              5                   26.74                    5   \n",
       "2                             10                   63.76                    3   \n",
       "3                             10                   37.47                    3   \n",
       "4                             19                   28.24                    4   \n",
       "\n",
       "  Preferred Category  Tenure (Years)  \n",
       "0            Grocery               3  \n",
       "1           Clothing              12  \n",
       "2           Clothing              11  \n",
       "3            Grocery               6  \n",
       "4             Sports              12  "
      ]
     },
     "execution_count": 39,
     "metadata": {},
     "output_type": "execute_result"
    }
   ],
   "source": [
    "df.head()"
   ]
  },
  {
   "cell_type": "code",
   "execution_count": 40,
   "id": "d9de12d2-4fcb-43a3-add3-022d926b0595",
   "metadata": {},
   "outputs": [
    {
     "data": {
      "image/png": "[encoded data removed]",
      "text/plain": [
       "<Figure size 640x480 with 1 Axes>"
      ]
     },
     "metadata": {},
     "output_type": "display_data"
    }
   ],
   "source": [
    "sns.scatterplot(x='Age', y='Spending Score (1-100)', data=df)\n",
    "plt.title('Age vs Spending Score')\n",
    "plt.show()"
   ]
  },
  {
   "cell_type": "code",
   "execution_count": 41,
   "id": "b940ffc9-bb5c-4b07-91e6-9aa02e8d40c3",
   "metadata": {},
   "outputs": [],
   "source": [
    "sse=[]\n",
    "for i in range(1,11):\n",
    "    km=KMeans(n_clusters=i, random_state=0)\n",
    "    km.fit(df[['Age', 'Spending Score (1-100)']])\n",
    "    sse.append(km.inertia_)"
   ]
  },
  {
   "cell_type": "code",
   "execution_count": 42,
   "id": "e7c75f21-9eac-44e4-9e99-b75db927a6ba",
   "metadata": {},
   "outputs": [
    {
     "data": {
      "text/plain": [
       "[206950.52000000002,\n",
       " 79651.66930237213,\n",
       " 54626.709972394754,\n",
       " 42771.861415372085,\n",
       " 34502.96246208948,\n",
       " 25728.34085851435,\n",
       " 21575.067306565506,\n",
       " 18755.996246392497,\n",
       " 16591.239907823867,\n",
       " 15362.178886196067]"
      ]
     },
     "execution_count": 42,
     "metadata": {},
     "output_type": "execute_result"
    }
   ],
   "source": [
    "sse"
   ]
  },
  {
   "cell_type": "code",
   "execution_count": 43,
   "id": "4a954583-252f-49fe-82eb-790d5a397e88",
   "metadata": {},
   "outputs": [
    {
     "data": {
      "text/plain": [
       "[<matplotlib.lines.Line2D at 0x1f669eeefd0>]"
      ]
     },
     "execution_count": 43,
     "metadata": {},
     "output_type": "execute_result"
    },
    {
     "data": {
      "image/png": "[encoded data removed]",
      "text/plain": [
       "<Figure size 640x480 with 1 Axes>"
      ]
     },
     "metadata": {},
     "output_type": "display_data"
    }
   ],
   "source": [
    "plt.xlabel('Number of Clusters')\n",
    "plt.ylabel('sse')\n",
    "plt.plot(range(1,11), sse)"
   ]
  },
  {
   "cell_type": "code",
   "execution_count": 44,
   "id": "b5f4241c-e6b6-486b-be9d-6e5ea587dadf",
   "metadata": {},
   "outputs": [
    {
     "data": {
      "text/plain": [
       "array([2, 1, 3, 1, 3, 4, 3, 4, 2, 4, 4, 0, 1, 3, 4, 4, 3, 0, 0, 1, 1, 2,\n",
       "       0, 3, 2, 0, 0, 2, 0, 2, 3, 1, 3, 0, 1, 1, 4, 3, 4, 3, 4, 2, 3, 3,\n",
       "       2, 3, 0, 2, 3, 0, 2, 1, 3, 2, 0, 2, 1, 3, 4, 1, 3, 4, 4, 0, 3, 0,\n",
       "       1, 0, 3, 1, 2, 0, 1, 4, 1, 3, 0, 4, 0, 3, 4, 0, 3, 4, 1, 0, 2, 3,\n",
       "       3, 1, 1, 4, 1, 0, 0, 0, 0, 3, 0, 2, 0, 2, 0, 0, 0, 3, 1, 1, 4, 2,\n",
       "       1, 3, 3, 0, 3, 0, 0, 3, 3, 2, 3, 2, 3, 3, 1, 0, 1, 3, 4, 1, 3, 1,\n",
       "       4, 0, 0, 3, 1, 0, 1, 3, 0, 0, 0, 2, 1, 0, 1, 1, 2, 4, 3, 1, 2, 1,\n",
       "       1, 4, 2, 3, 2, 0, 3, 4, 4, 2, 0, 1, 3, 0, 2, 3, 2, 1, 3, 1, 0, 3,\n",
       "       1, 2, 1, 4, 1, 0, 2, 0, 1, 0, 4, 1, 3, 3, 2, 3, 1, 1, 4, 1, 3, 3,\n",
       "       2, 3], dtype=int32)"
      ]
     },
     "execution_count": 44,
     "metadata": {},
     "output_type": "execute_result"
    }
   ],
   "source": [
    "km=KMeans(n_clusters=5)\n",
    "predicted=km.fit_predict(df[['Age','Spending Score (1-100)']])\n",
    "predicted"
   ]
  },
  {
   "cell_type": "code",
   "execution_count": 45,
   "id": "2f7f17c0-1941-4671-8d88-770654a5f053",
   "metadata": {},
   "outputs": [
    {
     "data": {
      "text/html": [
       "<div>\n",
       "<style scoped>\n",
       "    .dataframe tbody tr th:only-of-type {\n",
       "        vertical-align: middle;\n",
       "    }\n",
       "\n",
       "    .dataframe tbody tr th {\n",
       "        vertical-align: top;\n",
       "    }\n",
       "\n",
       "    .dataframe thead th {\n",
       "        text-align: right;\n",
       "    }\n",
       "</style>\n",
       "<table border=\"1\" class=\"dataframe\">\n",
       "  <thead>\n",
       "    <tr style=\"text-align: right;\">\n",
       "      <th></th>\n",
       "      <th>Customer ID</th>\n",
       "      <th>Age</th>\n",
       "      <th>Gender</th>\n",
       "      <th>Annual Income(USD)</th>\n",
       "      <th>Spending Score (1-100)</th>\n",
       "      <th>Purchase Frequency(per month)</th>\n",
       "      <th>AvgPurchaseValue (USD)</th>\n",
       "      <th>LoyaltyScore (1-10)</th>\n",
       "      <th>Preferred Category</th>\n",
       "      <th>Tenure (Years)</th>\n",
       "      <th>Cluster</th>\n",
       "    </tr>\n",
       "  </thead>\n",
       "  <tbody>\n",
       "    <tr>\n",
       "      <th>0</th>\n",
       "      <td>1</td>\n",
       "      <td>56</td>\n",
       "      <td>Female</td>\n",
       "      <td>63484</td>\n",
       "      <td>49</td>\n",
       "      <td>5</td>\n",
       "      <td>89.24</td>\n",
       "      <td>7</td>\n",
       "      <td>Grocery</td>\n",
       "      <td>3</td>\n",
       "      <td>2</td>\n",
       "    </tr>\n",
       "    <tr>\n",
       "      <th>1</th>\n",
       "      <td>2</td>\n",
       "      <td>46</td>\n",
       "      <td>Male</td>\n",
       "      <td>56212</td>\n",
       "      <td>100</td>\n",
       "      <td>5</td>\n",
       "      <td>26.74</td>\n",
       "      <td>5</td>\n",
       "      <td>Clothing</td>\n",
       "      <td>12</td>\n",
       "      <td>1</td>\n",
       "    </tr>\n",
       "    <tr>\n",
       "      <th>2</th>\n",
       "      <td>3</td>\n",
       "      <td>32</td>\n",
       "      <td>Female</td>\n",
       "      <td>63525</td>\n",
       "      <td>12</td>\n",
       "      <td>10</td>\n",
       "      <td>63.76</td>\n",
       "      <td>3</td>\n",
       "      <td>Clothing</td>\n",
       "      <td>11</td>\n",
       "      <td>3</td>\n",
       "    </tr>\n",
       "    <tr>\n",
       "      <th>3</th>\n",
       "      <td>4</td>\n",
       "      <td>60</td>\n",
       "      <td>Male</td>\n",
       "      <td>67202</td>\n",
       "      <td>61</td>\n",
       "      <td>10</td>\n",
       "      <td>37.47</td>\n",
       "      <td>3</td>\n",
       "      <td>Grocery</td>\n",
       "      <td>6</td>\n",
       "      <td>1</td>\n",
       "    </tr>\n",
       "    <tr>\n",
       "      <th>4</th>\n",
       "      <td>5</td>\n",
       "      <td>25</td>\n",
       "      <td>Male</td>\n",
       "      <td>52635</td>\n",
       "      <td>19</td>\n",
       "      <td>19</td>\n",
       "      <td>28.24</td>\n",
       "      <td>4</td>\n",
       "      <td>Sports</td>\n",
       "      <td>12</td>\n",
       "      <td>3</td>\n",
       "    </tr>\n",
       "    <tr>\n",
       "      <th>...</th>\n",
       "      <td>...</td>\n",
       "      <td>...</td>\n",
       "      <td>...</td>\n",
       "      <td>...</td>\n",
       "      <td>...</td>\n",
       "      <td>...</td>\n",
       "      <td>...</td>\n",
       "      <td>...</td>\n",
       "      <td>...</td>\n",
       "      <td>...</td>\n",
       "      <td>...</td>\n",
       "    </tr>\n",
       "    <tr>\n",
       "      <th>195</th>\n",
       "      <td>196</td>\n",
       "      <td>49</td>\n",
       "      <td>Female</td>\n",
       "      <td>66959</td>\n",
       "      <td>95</td>\n",
       "      <td>6</td>\n",
       "      <td>46.65</td>\n",
       "      <td>2</td>\n",
       "      <td>Sports</td>\n",
       "      <td>1</td>\n",
       "      <td>1</td>\n",
       "    </tr>\n",
       "    <tr>\n",
       "      <th>196</th>\n",
       "      <td>197</td>\n",
       "      <td>49</td>\n",
       "      <td>Male</td>\n",
       "      <td>20728</td>\n",
       "      <td>5</td>\n",
       "      <td>5</td>\n",
       "      <td>58.11</td>\n",
       "      <td>1</td>\n",
       "      <td>Home Decor</td>\n",
       "      <td>11</td>\n",
       "      <td>3</td>\n",
       "    </tr>\n",
       "    <tr>\n",
       "      <th>197</th>\n",
       "      <td>198</td>\n",
       "      <td>41</td>\n",
       "      <td>Female</td>\n",
       "      <td>70517</td>\n",
       "      <td>3</td>\n",
       "      <td>11</td>\n",
       "      <td>136.52</td>\n",
       "      <td>10</td>\n",
       "      <td>Home Decor</td>\n",
       "      <td>7</td>\n",
       "      <td>3</td>\n",
       "    </tr>\n",
       "    <tr>\n",
       "      <th>198</th>\n",
       "      <td>199</td>\n",
       "      <td>58</td>\n",
       "      <td>Female</td>\n",
       "      <td>86234</td>\n",
       "      <td>53</td>\n",
       "      <td>4</td>\n",
       "      <td>21.69</td>\n",
       "      <td>2</td>\n",
       "      <td>Grocery</td>\n",
       "      <td>7</td>\n",
       "      <td>2</td>\n",
       "    </tr>\n",
       "    <tr>\n",
       "      <th>199</th>\n",
       "      <td>200</td>\n",
       "      <td>29</td>\n",
       "      <td>Female</td>\n",
       "      <td>59954</td>\n",
       "      <td>23</td>\n",
       "      <td>13</td>\n",
       "      <td>31.12</td>\n",
       "      <td>7</td>\n",
       "      <td>Grocery</td>\n",
       "      <td>1</td>\n",
       "      <td>3</td>\n",
       "    </tr>\n",
       "  </tbody>\n",
       "</table>\n",
       "<p>200 rows × 11 columns</p>\n",
       "</div>"
      ],
      "text/plain": [
       "     Customer ID  Age  Gender  Annual Income(USD)  Spending Score (1-100)  \\\n",
       "0              1   56  Female               63484                      49   \n",
       "1              2   46    Male               56212                     100   \n",
       "2              3   32  Female               63525                      12   \n",
       "3              4   60    Male               67202                      61   \n",
       "4              5   25    Male               52635                      19   \n",
       "..           ...  ...     ...                 ...                     ...   \n",
       "195          196   49  Female               66959                      95   \n",
       "196          197   49    Male               20728                       5   \n",
       "197          198   41  Female               70517                       3   \n",
       "198          199   58  Female               86234                      53   \n",
       "199          200   29  Female               59954                      23   \n",
       "\n",
       "     Purchase Frequency(per month)  AvgPurchaseValue (USD)  \\\n",
       "0                                5                   89.24   \n",
       "1                                5                   26.74   \n",
       "2                               10                   63.76   \n",
       "3                               10                   37.47   \n",
       "4                               19                   28.24   \n",
       "..                             ...                     ...   \n",
       "195                              6                   46.65   \n",
       "196                              5                   58.11   \n",
       "197                             11                  136.52   \n",
       "198                              4                   21.69   \n",
       "199                             13                   31.12   \n",
       "\n",
       "     LoyaltyScore (1-10) Preferred Category  Tenure (Years)  Cluster  \n",
       "0                      7            Grocery               3        2  \n",
       "1                      5           Clothing              12        1  \n",
       "2                      3           Clothing              11        3  \n",
       "3                      3            Grocery               6        1  \n",
       "4                      4             Sports              12        3  \n",
       "..                   ...                ...             ...      ...  \n",
       "195                    2             Sports               1        1  \n",
       "196                    1         Home Decor              11        3  \n",
       "197                   10         Home Decor               7        3  \n",
       "198                    2            Grocery               7        2  \n",
       "199                    7            Grocery               1        3  \n",
       "\n",
       "[200 rows x 11 columns]"
      ]
     },
     "execution_count": 45,
     "metadata": {},
     "output_type": "execute_result"
    }
   ],
   "source": [
    "df['Cluster']=predicted\n",
    "df"
   ]
  },
  {
   "cell_type": "code",
   "execution_count": 47,
   "id": "f19854bd-7ceb-43aa-a482-f94eab0bb1f0",
   "metadata": {},
   "outputs": [
    {
     "name": "stdout",
     "output_type": "stream",
     "text": [
      "0.7137343343264037\n"
     ]
    }
   ],
   "source": [
    "X,_ =make_blobs(n_samples=199,centers=5,cluster_std=0.60,random_state=0)\n",
    "kmeans=KMeans(n_clusters=5, random_state=0)\n",
    "cluster_labels=kmeans.fit_predict(X)\n",
    "silhouette_avg=silhouette_score(X,cluster_labels)\n",
    "print(silhouette_avg)\n"
   ]
  },
  {
   "cell_type": "code",
   "execution_count": 46,
   "id": "fe34167f-5356-4e87-86b9-e9e9a8fc80b3",
   "metadata": {},
   "outputs": [
    {
     "data": {
      "image/png": "[encoded data removed]",
      "text/plain": [
       "<Figure size 1000x700 with 1 Axes>"
      ]
     },
     "metadata": {},
     "output_type": "display_data"
    }
   ],
   "source": [
    "df1= df[df.Cluster==0]\n",
    "df2= df[df.Cluster==1]\n",
    "df3= df[df.Cluster==2]\n",
    "df4= df[df.Cluster==3]\n",
    "df5= df[df.Cluster==4]\n",
    "\n",
    "\n",
    "plt.figure(figsize=(10,7))\n",
    "plt.scatter(df1['Age'],df1['Spending Score (1-100)'],color='red')\n",
    "plt.scatter(df2['Age'],df2['Spending Score (1-100)'],color='orange')\n",
    "plt.scatter(df3['Age'],df3['Spending Score (1-100)'],color='yellow')\n",
    "plt.scatter(df4['Age'],df4['Spending Score (1-100)'],color='green')\n",
    "plt.scatter(df5['Age'],df5['Spending Score (1-100)'],color='blue')\n",
    "\n",
    "\n",
    "plt.scatter(km.cluster_centers_[:,0],km.cluster_centers_[:,1],\n",
    "            color='purple',marker='*',label='centroid')\n",
    "plt.xlabel('Age')\n",
    "plt.ylabel('Spending Score')\n",
    "plt.legend()\n",
    "plt.grid(True)\n",
    "plt.show()\n"
   ]
  },
  {
   "cell_type": "code",
   "execution_count": null,
   "id": "66f6c919-1433-4f36-aaa5-773521a96bb5",
   "metadata": {},
   "outputs": [],
   "source": []
  }
 ],
 "metadata": {
  "kernelspec": {
   "display_name": "Python 3 (ipykernel)",
   "language": "python",
   "name": "python3"
  },
  "language_info": {
   "codemirror_mode": {
    "name": "ipython",
    "version": 3
   },
   "file_extension": ".py",
   "mimetype": "text/x-python",
   "name": "python",
   "nbconvert_exporter": "python",
   "pygments_lexer": "ipython3",
   "version": "3.13.5"
  }
 },
 "nbformat": 4,
 "nbformat_minor": 5
}
